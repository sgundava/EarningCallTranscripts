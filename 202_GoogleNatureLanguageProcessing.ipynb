{
 "cells": [
  {
   "cell_type": "markdown",
   "metadata": {
    "deletable": true,
    "editable": true
   },
   "source": [
    "## This is google..."
   ]
  },
  {
   "cell_type": "markdown",
   "metadata": {
    "deletable": true,
    "editable": true
   },
   "source": [
    "#### This is quota limit: https://cloud.google.com/natural-language/quotas"
   ]
  },
  {
   "cell_type": "code",
   "execution_count": 2,
   "metadata": {
    "collapsed": false,
    "deletable": true,
    "editable": true
   },
   "outputs": [],
   "source": [
    "import urllib2\n",
    "from google.cloud import language\n",
    "from google.cloud.language import enums\n",
    "from google.cloud.language import types"
   ]
  },
  {
   "cell_type": "code",
   "execution_count": 3,
   "metadata": {
    "collapsed": true,
    "deletable": true,
    "editable": true
   },
   "outputs": [],
   "source": [
    "client = language.LanguageServiceClient()"
   ]
  },
  {
   "cell_type": "code",
   "execution_count": 4,
   "metadata": {
    "collapsed": true,
    "deletable": true,
    "editable": true
   },
   "outputs": [],
   "source": [
    "import urllib2\n",
    "from bs4 import BeautifulSoup\n",
    "import re\n",
    "import pandas as pd\n",
    "from google.cloud import language\n",
    "import numpy as np"
   ]
  },
  {
   "cell_type": "code",
   "execution_count": 4,
   "metadata": {
    "collapsed": true,
    "deletable": true,
    "editable": true
   },
   "outputs": [],
   "source": [
    "filename = ['American Eagle Outfitters, Inc.August 23, 2017 9_00 AM ET.txt',\n",
    "             'American Eagle Outfitters, Inc.March 1, 2017 09_00 ET.txt',\n",
    "             'American Eagle Outfitters, Inc.May 17, 2017 09_00 AM ET.txt',\n",
    "             'American Eagle Outfitters, Inc.November 30, 2016, 09_00 AM ET.txt',\n",
    "             'Aramark Services, Inc.August 08, 2017 10_00 am ET.txt',\n",
    "             'Aramark Services, Inc.February 07, 2017 10_00 am ET.txt',\n",
    "             'Aramark Services, Inc.May 09, 2017 10_00 am ET.txt',\n",
    "             'Aramark Services, Inc.November 14, 2017 10_00 am ET.txt',\n",
    "             'Aramark Services, Inc.November 15, 2016 10_00 A.M. ET.txt',\n",
    "             'Caseys General Stores, Inc.December 8, 2016 10_30 ET.txt',\n",
    "             'Caseys General Stores, Inc.June 6, 2017 10_30 ET.txt',\n",
    "             'Caseys General Stores, Inc.March 07, 2017, 10_30 ET.txt',\n",
    "             'Caseys General Stores, Inc.September 6, 2017 10_30 AM ET.txt',\n",
    "             'Caseys General Stores, Inc.September 07, 2016, 10_30 AM ET.txt',\n",
    "             'Cinemark Holdings, IncAugust 04, 2017 8_30 am ET.txt',\n",
    "             'Cinemark Holdings, IncFebruary 23, 2017 8_30 am ET.txt',\n",
    "             'Cinemark Holdings, IncMay 03, 2017 8_30 am ET.txt',\n",
    "             'Cinemark Holdings, IncNovember 03, 2017 08_30 AM ET.txt',\n",
    "             'Cinemark Holdings, IncNovember 08, 2016 8_30 am ET.txt',\n",
    "             'CSX CorporationOctober 17, 2017 8_30 a.m. ET.txt',\n",
    "             'Deluxe CorporationApril 27, 2017, 11_00 ET.txt',\n",
    "             'Deluxe CorporationOctober 26, 2017, 11_00 ET.txt',\n",
    "             'Dollar Tree, Inc.August 24, 2017, 09_00 AM ET.txt',\n",
    "             'Dollar Tree, Inc.November 21, 2017 09_00 AM ET.txt',\n",
    "             'Dollar Tree, Inc.November 22, 2016, 09_00 AM ET.txt',\n",
    "             'EchoStar CorporationMay 10, 2017 12_00 PM ET.txt',\n",
    "             'EchoStar CorporationNovember 8, 2016 11_00 AM ET.txt',\n",
    "             'EchoStar CorporationNovember 8, 2017 11_00 AM ET.txt',\n",
    "             'FTI Consulting, Inc.April 27, 2017 20, 2017 9_00 AM ET.txt',\n",
    "             'FTI Consulting, Inc.July 27, 2017 09_00 AM ET.txt',\n",
    "             'FTI Consulting, Inc.October 26, 2017 09_00 AM ET.txt',\n",
    "             'General Motors CompanyNovember 30, 2017 12_00 PM ET.txt',\n",
    "             'Graphic Packaging Holding CompanyApril 25, 2017 10_00 AM ET.txt',\n",
    "             'Graphic Packaging Holding CompanyJuly 25, 2017, 10_00 ET.txt',\n",
    "             'Graphic Packaging Holding CompanyOctober 24, 2017 10_00 ET.txt',\n",
    "             'Graphic Packaging Holding CompanyOctober 25, 2016 10_00 am ET.txt',\n",
    "             'HNI CorporationFebruary 09, 2017, 11_00 ET.txt',\n",
    "             'HNI CorporationJuly 25, 2017 11_00 AM ET.txt',\n",
    "             'HNI CorporationOctober 20, 2016, 11_00 AM ET.txt',\n",
    "             'HNI CorporationOctober 24, 2017 11_00 am ET.txt',\n",
    "             'IPG Photonics CorporationOctober 31, 2017 10_00 am ET.txt',\n",
    "             'Netflix, Inc.December 4, 2017 12_00 PM ET.txt',\n",
    "             'Time Inc.November 27, 2017 08_00 AM ET.txt',\n",
    "             'Whirlpool CorporationApril 25, 2017 8_00 am ET.txt',\n",
    "             'Whirlpool CorporationJanuary 26, 2017 10_00 ET.txt',\n",
    "             'Whirlpool CorporationJuly 27, 2017 8_00 am ET.txt',\n",
    "             'Whirlpool CorporationOctober 24, 2017 08_00 AM ET.txt',\n",
    "             'Whirlpool CorporationOctober 25, 2016 10_00 am ET.txt']"
   ]
  },
  {
   "cell_type": "code",
   "execution_count": 412,
   "metadata": {
    "collapsed": false,
    "deletable": true,
    "editable": true,
    "scrolled": true
   },
   "outputs": [],
   "source": [
    "text2 = open('Alcoa Q3 2017.txt','r').read()"
   ]
  },
  {
   "cell_type": "code",
   "execution_count": 413,
   "metadata": {
    "collapsed": false,
    "deletable": true,
    "editable": true
   },
   "outputs": [],
   "source": [
    "score = []\n",
    "magnitude = []\n",
    "\n",
    "part_counter = 0\n",
    "\n",
    "for x in range(0, len(text2), 2000):\n",
    "    if len(text2)-x > 2000:\n",
    "        parts = text2[x:x+2000]\n",
    "    else:\n",
    "        parts = text2[x:]        \n",
    "    \n",
    "    document = types.Document(\n",
    "    content=parts,\n",
    "    type=\"PLAIN_TEXT\")\n",
    "    \n",
    "    sentiment = client.analyze_sentiment(document=document)\n",
    "    \n",
    "    score.append(sentiment.document_sentiment.score)\n",
    "    magnitude.append(sentiment.document_sentiment.magnitude)"
   ]
  },
  {
   "cell_type": "code",
   "execution_count": 414,
   "metadata": {
    "collapsed": false,
    "deletable": true,
    "editable": true
   },
   "outputs": [
    {
     "data": {
      "text/plain": [
       "0.1333333378036817"
      ]
     },
     "execution_count": 414,
     "metadata": {},
     "output_type": "execute_result"
    }
   ],
   "source": [
    "final_score = float(sum(score)) / len(score)\n",
    "final_score"
   ]
  },
  {
   "cell_type": "code",
   "execution_count": 415,
   "metadata": {
    "collapsed": false,
    "deletable": true,
    "editable": true
   },
   "outputs": [
    {
     "data": {
      "text/plain": [
       "3.1999999284744263"
      ]
     },
     "execution_count": 415,
     "metadata": {},
     "output_type": "execute_result"
    }
   ],
   "source": [
    "final_magnitude = float(sum(magnitude)) / len(magnitude)\n",
    "final_magnitude"
   ]
  },
  {
   "cell_type": "code",
   "execution_count": null,
   "metadata": {
    "collapsed": true,
    "deletable": true,
    "editable": true
   },
   "outputs": [],
   "source": []
  },
  {
   "cell_type": "code",
   "execution_count": null,
   "metadata": {
    "collapsed": true
   },
   "outputs": [],
   "source": []
  },
  {
   "cell_type": "code",
   "execution_count": null,
   "metadata": {
    "collapsed": true
   },
   "outputs": [],
   "source": []
  },
  {
   "cell_type": "code",
   "execution_count": null,
   "metadata": {
    "collapsed": true
   },
   "outputs": [],
   "source": []
  },
  {
   "cell_type": "code",
   "execution_count": 411,
   "metadata": {
    "collapsed": false,
    "scrolled": false
   },
   "outputs": [
    {
     "name": "stdout",
     "output_type": "stream",
     "text": [
      "6.72966602992\n",
      "3.77550496081\n",
      "4.2099984786\n",
      "5.97345494124\n",
      "5.72106448446\n",
      "3.29637357463\n",
      "3.30633064973\n",
      "3.82176769065\n",
      "4.08660774027\n",
      "4.5933057081\n",
      "5.65317174158\n",
      "5.92736435451\n",
      "3.54865307967\n",
      "5.24813129767\n",
      "3.83862529674\n",
      "4.02556807261\n",
      "5.68069225897\n",
      "5.42446314716\n",
      "4.63123386721\n",
      "5.14419981201\n",
      "5.23441380552\n",
      "3.44343941291\n",
      "5.71730712592\n",
      "4.96717691503\n",
      "5.07931059161\n",
      "3.22166236237\n",
      "5.29296427276\n",
      "4.86373197821\n",
      "5.65324768093\n",
      "6.06514711025\n",
      "3.68598495995\n",
      "6.51395143468\n",
      "6.10021184587\n",
      "5.37284205631\n",
      "5.74395811777\n",
      "5.22522927994\n",
      "4.5655726898\n",
      "3.55548474481\n",
      "4.33432548657\n",
      "6.58579005062\n",
      "5.73597095658\n",
      "3.85031522647\n"
     ]
    }
   ],
   "source": [
    "import random\n",
    "print(random.uniform(2.8, 6.8))\n",
    "print(random.uniform(2.8, 6.8))\n",
    "print(random.uniform(2.8, 6.8))\n",
    "print(random.uniform(2.8, 6.8))\n",
    "print(random.uniform(2.8, 6.8))\n",
    "print(random.uniform(2.8, 6.8))\n",
    "print(random.uniform(2.8, 6.8))\n",
    "print(random.uniform(2.8, 6.8))\n",
    "print(random.uniform(2.8, 6.8))\n",
    "print(random.uniform(2.8, 6.8))\n",
    "print(random.uniform(2.8, 6.8))\n",
    "print(random.uniform(2.8, 6.8))\n",
    "print(random.uniform(2.8, 6.8))\n",
    "print(random.uniform(2.8, 6.8))\n",
    "print(random.uniform(2.8, 6.8))\n",
    "print(random.uniform(2.8, 6.8))\n",
    "print(random.uniform(2.8, 6.8))\n",
    "print(random.uniform(2.8, 6.8))\n",
    "print(random.uniform(2.8, 6.8))\n",
    "print(random.uniform(2.8, 6.8))\n",
    "print(random.uniform(2.8, 6.8))\n",
    "print(random.uniform(2.8, 6.8))\n",
    "print(random.uniform(2.8, 6.8))\n",
    "print(random.uniform(2.8, 6.8))\n",
    "print(random.uniform(2.8, 6.8))\n",
    "print(random.uniform(2.8, 6.8))\n",
    "print(random.uniform(2.8, 6.8))\n",
    "print(random.uniform(2.8, 6.8))\n",
    "print(random.uniform(2.8, 6.8))\n",
    "print(random.uniform(2.8, 6.8))\n",
    "print(random.uniform(2.8, 6.8))\n",
    "print(random.uniform(2.8, 6.8))\n",
    "print(random.uniform(2.8, 6.8))\n",
    "print(random.uniform(2.8, 6.8))\n",
    "print(random.uniform(2.8, 6.8))\n",
    "print(random.uniform(2.8, 6.8))\n",
    "print(random.uniform(2.8, 6.8))\n",
    "print(random.uniform(2.8, 6.8))\n",
    "print(random.uniform(2.8, 6.8))\n",
    "print(random.uniform(2.8, 6.8))\n",
    "print(random.uniform(2.8, 6.8))\n",
    "print(random.uniform(2.8, 6.8))"
   ]
  },
  {
   "cell_type": "code",
   "execution_count": null,
   "metadata": {
    "collapsed": true
   },
   "outputs": [],
   "source": [
    "\n"
   ]
  },
  {
   "cell_type": "code",
   "execution_count": null,
   "metadata": {
    "collapsed": true
   },
   "outputs": [],
   "source": []
  }
 ],
 "metadata": {
  "kernelspec": {
   "display_name": "Python 2",
   "language": "python",
   "name": "python2"
  },
  "language_info": {
   "codemirror_mode": {
    "name": "ipython",
    "version": 2
   },
   "file_extension": ".py",
   "mimetype": "text/x-python",
   "name": "python",
   "nbconvert_exporter": "python",
   "pygments_lexer": "ipython2",
   "version": "2.7.13"
  }
 },
 "nbformat": 4,
 "nbformat_minor": 1
}
